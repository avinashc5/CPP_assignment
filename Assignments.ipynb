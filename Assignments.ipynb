{
 "cells": [
  {
   "cell_type": "markdown",
   "metadata": {},
   "source": [
    "# **Basic Python**"
   ]
  },
  {
   "cell_type": "markdown",
   "metadata": {},
   "source": [
    "## 1.a \n",
    "Give a function F that takes a single argument n. This function should print a sequence of n strings as described in the examples below: <br>\n",
    "Ex: **n = 3**\n",
    "\n",
    "--A--<br>\n",
    "-BAB-<br>\n",
    "CBABC<br>\n",
    "\n",
    "**n = 4**\n",
    "\n",
    "---A---<br>\n",
    "--BAB--<br>\n",
    "-CBABC-<br>\n",
    "DCBABCD"
   ]
  },
  {
   "cell_type": "code",
   "execution_count": 1,
   "metadata": {},
   "outputs": [
    {
     "name": "stdout",
     "output_type": "stream",
     "text": [
      "---------A---------\n",
      "--------BAB--------\n",
      "-------CBABC-------\n",
      "------DCBABCD------\n",
      "-----EDCBABCDE-----\n",
      "----FEDCBABCDEF----\n",
      "---GFEDCBABCDEFG---\n",
      "--HGFEDCBABCDEFGH--\n",
      "-IHGFEDCBABCDEFGHI-\n",
      "JIHGFEDCBABCDEFGHIJ\n",
      "-----A-----\n",
      "----BAB----\n",
      "---CBABC---\n",
      "--DCBABCD--\n",
      "-EDCBABCDE-\n",
      "FEDCBABCDEF\n"
     ]
    }
   ],
   "source": [
    "def F(n):\n",
    "    # Start coding\n",
    "    for i in range(1, n+1):\n",
    "        print('-'*(n-i), end='')\n",
    "        for j in range(i):\n",
    "            print(chr(64+i-j), end='')\n",
    "        for j in range(i-1):\n",
    "            print(chr(66+j), end='')\n",
    "        print('-'*(n-i))\n",
    "\n",
    "# Tests\n",
    "F(10)\n",
    "F(6)"
   ]
  },
  {
   "cell_type": "markdown",
   "metadata": {},
   "source": [
    "## 1.b\n",
    "Make a function F that takes only one argument, a dictionary(dict) d.\n",
    "The keys of d are integers and the values of d are a tuple of type (x (int), y (int)).\n",
    "You must print out the dict in the format \"-key-, -x-, -y-\" with each entry in a new line. Print it for each of the three sorted orders, by key values ascending, by x values descending, by y values ascending."
   ]
  },
  {
   "cell_type": "code",
   "execution_count": 2,
   "metadata": {},
   "outputs": [
    {
     "name": "stdout",
     "output_type": "stream",
     "text": [
      "1, 1, 2\n",
      "2, -1, 4\n",
      "5, -4, 3\n",
      "4, 2, 3\n",
      "-8, 4, 2\n",
      "6, -3, 4\n",
      "7, 2, 1\n",
      "5, 9, -10\n"
     ]
    }
   ],
   "source": [
    "def F(d : dict):\n",
    "    # Start coding\n",
    "    for i in d:\n",
    "        print(i, d[i][0], d[i][1], sep=', ')\n",
    "    pass\n",
    "\n",
    "# Tests\n",
    "F({1 : (1, 2), 2 : (-1, 4), 5 : (-4, 3), 4 : (2, 3)})\n",
    "F({-8 : (4, 2), 6 : (-3, 4), 7 : (2, 1), 5 : (9, -10)})"
   ]
  },
  {
   "cell_type": "markdown",
   "metadata": {},
   "source": [
    "## 2 Working with Student Records\n",
    "\n",
    "Use the data in **student_records.csv** to complete the given tasks. Do not include any external libraries. Use a Python dictionary if required.\n",
    "\n",
    "### Reference\n",
    "- [Python Dictionaries](https://www.w3schools.com/python/python_dictionaries.asp)\n"
   ]
  },
  {
   "cell_type": "markdown",
   "metadata": {},
   "source": [
    "#### 2.a: open the student_records.csv file and print out the first 10 rows"
   ]
  },
  {
   "cell_type": "code",
   "execution_count": 3,
   "metadata": {},
   "outputs": [
    {
     "name": "stdout",
     "output_type": "stream",
     "text": [
      "roll_number,department,credit,course_name,course_type,grade\n",
      "588946,MA,3,EC250,hasmed_elective,AB\n",
      "145372,EP,4,EP407,hasmed_elective,CC\n",
      "834515,MA,8,EP885,hasmed_elective,BB\n",
      "344265,CSE,6,CSE699,honours,AB\n",
      "358405,MA,3,EE460,minor,AP\n",
      "781075,CE,8,CE540,honours,CC\n",
      "180828,CSE,6,CE880,minor,AB\n",
      "981238,MM,4,CSE226,minor,AB\n",
      "836881,MM,8,MM530,core,AA\n"
     ]
    }
   ],
   "source": [
    "#TODO\n",
    "with open('student_records.csv') as f:\n",
    "\tfor i in range(10):\n",
    "\t\tprint(f.readline().strip())\n"
   ]
  },
  {
   "cell_type": "markdown",
   "metadata": {},
   "source": [
    "#### 2.b: Print out the total credits and calculte CPI of each student. \n",
    "CPI is the weighted average of core courses, and electives (weights being the letter grades converted to number AP,AA=10, AB=9, BB=9, BC=7, CC=6)"
   ]
  },
  {
   "cell_type": "code",
   "execution_count": 4,
   "metadata": {},
   "outputs": [
    {
     "name": "stdout",
     "output_type": "stream",
     "text": [
      "roll_number, total_credit, cpi\n",
      "588946 115 8.669565217391304\n",
      "145372 98 7.428571428571429\n",
      "834515 146 8.102739726027398\n",
      "344265 80 8.9\n",
      "358405 120 8.208333333333334\n",
      "781075 168 8.470238095238095\n",
      "180828 114 7.9035087719298245\n",
      "981238 120 8.275\n",
      "836881 116 7.922413793103448\n",
      "310604 115 8.217391304347826\n",
      "847809 100 8.27\n",
      "773982 139 7.784172661870503\n",
      "500658 128 8.1171875\n",
      "810863 108 8.055555555555555\n",
      "124663 100 8.23\n",
      "364146 94 8.76595744680851\n",
      "871746 111 7.792792792792793\n",
      "270007 140 7.75\n",
      "597353 77 8.077922077922079\n",
      "986057 148 7.925675675675675\n",
      "718510 118 8.703389830508474\n",
      "836431 78 7.653846153846154\n",
      "379479 155 8.167741935483871\n",
      "582912 109 9.275229357798166\n",
      "788020 90 8.088888888888889\n",
      "613401 115 8.252173913043478\n",
      "144528 112 8.571428571428571\n",
      "485484 132 8.659090909090908\n",
      "680096 68 8.352941176470589\n",
      "199713 105 7.980952380952381\n",
      "851029 114 8.24561403508772\n",
      "845623 169 8.532544378698224\n",
      "150503 136 8.433823529411764\n",
      "214270 126 7.507936507936508\n",
      "517837 101 8.326732673267326\n",
      "482623 123 8.520325203252032\n",
      "721490 170 8.352941176470589\n",
      "955757 130 8.03076923076923\n",
      "589528 96 8.541666666666666\n",
      "143856 122 8.491803278688524\n",
      "571782 93 8.21505376344086\n",
      "973158 111 8.378378378378379\n",
      "703403 108 8.518518518518519\n",
      "960395 122 8.827868852459016\n",
      "521087 87 7.597701149425287\n",
      "461971 169 8.390532544378699\n",
      "879634 109 8.724770642201834\n",
      "716985 112 7.741071428571429\n",
      "194063 103 7.951456310679611\n",
      "265922 163 8.245398773006135\n",
      "283796 114 8.87719298245614\n",
      "203200 93 8.64516129032258\n",
      "301135 99 8.323232323232324\n",
      "327122 190 8.236842105263158\n",
      "381526 86 7.941860465116279\n",
      "534763 101 7.841584158415841\n",
      "391848 154 8.35064935064935\n",
      "329535 96 8.260416666666666\n",
      "971123 109 7.5504587155963305\n",
      "207443 111 8.18918918918919\n",
      "488661 153 8.450980392156863\n",
      "782129 97 8.618556701030927\n",
      "928288 127 8.850393700787402\n",
      "581858 146 7.815068493150685\n",
      "733782 99 8.636363636363637\n",
      "282482 130 7.876923076923077\n",
      "572815 104 8.586538461538462\n",
      "608952 156 8.314102564102564\n",
      "628849 87 9.114942528735632\n",
      "630568 133 8.421052631578947\n",
      "388969 120 8.4\n",
      "159438 104 8.432692307692308\n",
      "478606 151 8.688741721854305\n",
      "995208 88 7.590909090909091\n",
      "841365 113 8.017699115044248\n",
      "870642 96 8.166666666666666\n",
      "970791 103 7.941747572815534\n",
      "143142 135 8.562962962962963\n",
      "998293 150 8.56\n",
      "907454 101 8.029702970297029\n",
      "681499 148 8.25\n",
      "888886 127 8.275590551181102\n",
      "608522 102 8.784313725490197\n",
      "362471 153 8.11111111111111\n",
      "465496 82 8.353658536585366\n",
      "208100 108 8.731481481481481\n",
      "138296 114 7.991228070175438\n",
      "775967 117 8.777777777777779\n",
      "692318 147 8.08843537414966\n",
      "461584 147 8.476190476190476\n",
      "626000 138 8.318840579710145\n",
      "458200 111 8.72072072072072\n",
      "581065 86 8.069767441860465\n",
      "787967 120 8.766666666666667\n",
      "381227 117 8.042735042735043\n",
      "750259 124 8.314516129032258\n",
      "881983 98 8.204081632653061\n",
      "294697 173 8.491329479768787\n",
      "816041 90 7.788888888888889\n",
      "993835 99 8.424242424242424\n"
     ]
    }
   ],
   "source": [
    "#TODO\n",
    "students = {}\n",
    "grade_map = {'AP': 10, 'AA': 10, 'AB': 9, 'BB': 8, 'BC': 7, 'CC': 6, 'CD': 5, 'DD': 4}\n",
    "with open('student_records.csv') as f:\n",
    "\tf.readline()\n",
    "\twhile True:\n",
    "\t\tline = f.readline().strip()\n",
    "\t\tif not line:\n",
    "\t\t\tbreak\n",
    "\t\troll_number, department, credit, course_name, course_type, grade = line.split(',')\n",
    "\t\tif roll_number not in students:\n",
    "\t\t\tstudents[roll_number] = []\n",
    "\t\tinfo = {}\n",
    "\t\tinfo['department'] = department\n",
    "\t\tinfo['credit'] = int(credit)\n",
    "\t\tinfo['course_name'] = course_name\n",
    "\t\tinfo['course_type'] = course_type\n",
    "\t\tinfo['grade'] = grade_map[grade]\n",
    "\t\tstudents[roll_number].append(info)\n",
    "\n",
    "print(\"roll_number, total_credit, cpi\")\n",
    "for roll_number in students:\n",
    "\ttotal_credit = 0\n",
    "\ttotal_credit_times_grade = 0\n",
    "\tfor course in students[roll_number]:\n",
    "\t\tif course['course_type'] == 'honours' or course['course_type'] == 'minor' or course['course_type'] == 'alc':\n",
    "\t\t\tcontinue\n",
    "\t\ttotal_credit += course['credit']\n",
    "\t\ttotal_credit_times_grade += course['credit'] * course['grade']\n",
    "\tprint(roll_number, total_credit, total_credit_times_grade / total_credit)\n"
   ]
  },
  {
   "cell_type": "markdown",
   "metadata": {},
   "source": [
    "#### 2.c: Print out the names of all students who meet the graduation requirements \n",
    "Atleast 20 credist of core course, 15 credits of department elective, 10 credits of flexible elective and 5 credits of hasmed electives"
   ]
  },
  {
   "cell_type": "code",
   "execution_count": 5,
   "metadata": {},
   "outputs": [
    {
     "name": "stdout",
     "output_type": "stream",
     "text": [
      "['588946', '834515', '781075', '180828', '981238', '836881', '310604', '773982', '500658', '810863', '124663', '871746', '986057', '379479', '144528', '485484', '845623', '150503', '214270', '517837', '482623', '721490', '955757', '143856', '571782', '973158', '703403', '960395', '521087', '461971', '879634', '716985', '265922', '283796', '203200', '327122', '534763', '391848', '971123', '207443', '488661', '782129', '928288', '581858', '282482', '572815', '608952', '628849', '630568', '388969', '159438', '970791', '143142', '998293', '681499', '888886', '608522', '362471', '692318', '626000', '581065', '787967', '381227', '750259', '881983', '294697']\n"
     ]
    }
   ],
   "source": [
    "#TODO\n",
    "students_passed = []\n",
    "for roll_number in students:\n",
    "\tcore = 0\n",
    "\tdepartment_elective = 0\n",
    "\tflexible_elective = 0\n",
    "\thasmed_elective = 0\n",
    "\tfor course in students[roll_number]:\n",
    "\t\tif course['course_type'] == 'core':\n",
    "\t\t\tcore += course['credit']\n",
    "\t\telif course['course_type'] == 'department_elective':\n",
    "\t\t\tdepartment_elective += course['credit']\n",
    "\t\telif course['course_type'] == 'felxible_elective':\n",
    "\t\t\tflexible_elective += course['credit']\n",
    "\t\telif course['course_type'] == 'hasmed_elective':\n",
    "\t\t\thasmed_elective += course['credit']\n",
    "\tif core >= 20 and department_elective >= 15 and flexible_elective >= 10 and hasmed_elective >= 5:\n",
    "\t\tstudents_passed.append(roll_number)\n",
    "\n",
    "print(students_passed)\n"
   ]
  },
  {
   "cell_type": "markdown",
   "metadata": {},
   "source": [
    "#### 2.d: Print out the names of all students who completed a minor \n",
    "Atleast 10 credits with minor tag in a specific department"
   ]
  },
  {
   "cell_type": "code",
   "execution_count": 6,
   "metadata": {},
   "outputs": [
    {
     "name": "stdout",
     "output_type": "stream",
     "text": [
      "['588946', '145372', '834515', '344265', '358405', '781075', '180828', '981238', '836881', '847809', '773982', '500658', '810863', '124663', '364146', '871746', '270007', '597353', '986057', '718510', '836431', '379479', '582912', '788020', '613401', '144528', '485484', '680096', '199713', '851029', '845623', '150503', '214270', '517837', '482623', '721490', '955757', '143856', '571782', '973158', '703403', '960395', '521087', '461971', '879634', '716985', '194063', '265922', '283796', '203200', '301135', '327122', '381526', '534763', '391848', '329535', '971123', '207443', '488661', '782129', '581858', '733782', '282482', '572815', '608952', '628849', '630568', '388969', '159438', '478606', '995208', '841365', '970791', '143142', '998293', '907454', '681499', '888886', '608522', '362471', '465496', '208100', '138296', '775967', '692318', '461584', '626000', '458200', '581065', '787967', '381227', '750259', '881983', '294697', '816041', '993835']\n"
     ]
    }
   ],
   "source": [
    "#TODO\n",
    "\n",
    "students_with_minor = []\n",
    "for roll_number in students:\n",
    "\tdepartment_credit = {}\n",
    "\tfor course in students[roll_number]:\n",
    "\t\tif course['course_type'] == 'minor':\n",
    "\t\t\tif course['department'] not in department_credit:\n",
    "\t\t\t\tdepartment_credit[course['department']] = 0\n",
    "\t\t\tdepartment_credit[course['department']] += course['credit']\n",
    "\tfor department in department_credit:\n",
    "\t\tif department_credit[department] >= 10:\n",
    "\t\t\tstudents_with_minor.append(roll_number)\n",
    "\t\t\tbreak\n",
    "\n",
    "print(students_with_minor)\n"
   ]
  },
  {
   "cell_type": "markdown",
   "metadata": {},
   "source": [
    "#### 2.e: Print out the names of all students who completed a honours\n",
    "Atleast 10 credits with honours tag and 20 core credits"
   ]
  },
  {
   "cell_type": "code",
   "execution_count": 7,
   "metadata": {},
   "outputs": [
    {
     "name": "stdout",
     "output_type": "stream",
     "text": [
      "['588946', '145372', '834515', '781075', '836881', '310604', '773982', '500658', '810863', '124663', '364146', '871746', '986057', '718510', '379479', '582912', '788020', '613401', '144528', '485484', '199713', '845623', '150503', '214270', '517837', '482623', '721490', '955757', '589528', '143856', '571782', '973158', '703403', '960395', '521087', '461971', '879634', '716985', '265922', '283796', '203200', '327122', '534763', '391848', '971123', '207443', '488661', '782129', '928288', '581858', '282482', '572815', '608952', '628849', '630568', '388969', '159438', '870642', '970791', '143142', '998293', '681499', '888886', '608522', '362471', '465496', '208100', '692318', '626000', '458200', '581065', '787967', '750259', '881983', '294697']\n"
     ]
    }
   ],
   "source": [
    "#TODO\n",
    "students_with_honours = []\n",
    "for roll_number in students:\n",
    "\thonours = 0\n",
    "\tcore = 0\n",
    "\tfor course in students[roll_number]:\n",
    "\t\tif course['course_type'] == 'honours':\n",
    "\t\t\thonours += course['credit']\n",
    "\t\telif course['course_type'] == 'core':\n",
    "\t\t\tcore += course['credit']\n",
    "\tif honours >= 10 and core >= 20:\n",
    "\t\tstudents_with_honours.append(roll_number)\n",
    "\n",
    "print(students_with_honours)\n"
   ]
  },
  {
   "cell_type": "markdown",
   "metadata": {},
   "source": [
    "# **SciPy** "
   ]
  },
  {
   "cell_type": "markdown",
   "metadata": {},
   "source": [
    "## Part A\n",
    "Minimize the function $f(x, y) = 2(x - y - 3)^2 + 4(x + 2y + 1)^4$.<br>\n",
    "With the constraints : $ x - y \\ge -3, (x + 2)^2 + (y + 1)^2 \\le 5$ <br>\n",
    "Using scipy.optimize.minimize with constraints. (Hint: Look at the examples in the official documentation)"
   ]
  },
  {
   "cell_type": "code",
   "execution_count": 8,
   "metadata": {},
   "outputs": [
    {
     "name": "stdout",
     "output_type": "stream",
     "text": [
      " message: Optimization terminated successfully\n",
      " success: True\n",
      "  status: 0\n",
      "     fun: 7.345026153552391\n",
      "       x: [ 2.349e-01 -9.285e-01]\n",
      "     nit: 9\n",
      "     jac: [-1.120e+01 -3.583e-01]\n",
      "    nfev: 30\n",
      "    njev: 9\n"
     ]
    }
   ],
   "source": [
    "#TODO\n",
    "import scipy\n",
    "import numpy as np\n",
    "\n",
    "def f(vars):\n",
    "\tx, y = vars\n",
    "\treturn 2*(x - y - 3)**2 + 4*(x + 2*y + 1)**4\n",
    "\n",
    "def ineq1(vars):\n",
    "\tx, y = vars\n",
    "\treturn x - y + 3\n",
    "\n",
    "def ineq2(vars):\n",
    "\tx, y = vars\n",
    "\treturn 5 - (x + 2)**2 - (y + 1)**2\n",
    "\n",
    "con1 = {'type': 'ineq', 'fun': ineq1}\n",
    "con2 = {'type': 'ineq', 'fun': ineq2}\n",
    "\n",
    "result = scipy.optimize.minimize(f, [1, 1], constraints=[con1, con2])\n",
    "print(result)"
   ]
  },
  {
   "cell_type": "markdown",
   "metadata": {},
   "source": [
    "# Part B\n",
    "Evaluate the line integral of the function $f(x, y) = x^2 + y^4$ along the circle $ x^2 + y^2 = 3 $ anticlockwise (scalar integral, not vector). You must use scipy for integration but you may use parameterization"
   ]
  },
  {
   "cell_type": "code",
   "execution_count": 9,
   "metadata": {},
   "outputs": [
    {
     "name": "stdout",
     "output_type": "stream",
     "text": [
      "53.05363140385085\n"
     ]
    }
   ],
   "source": [
    "#TODO\n",
    "from scipy.integrate import quad\n",
    "def f(x, y):\n",
    "\treturn x**2 + y**4\n",
    "\n",
    "R = np.sqrt(3)\n",
    "def integrand(theta):\n",
    "\tx = R * np.cos(theta)\n",
    "\ty = R * np.sin(theta)\n",
    "\treturn f(x, y) * R\n",
    "\n",
    "result, error = quad(integrand, 0, 2*np.pi)\n",
    "print(result)"
   ]
  },
  {
   "cell_type": "markdown",
   "metadata": {},
   "source": [
    "# **Numpy**"
   ]
  },
  {
   "cell_type": "markdown",
   "metadata": {},
   "source": [
    "### Read Lisan_Al_Gaib.pdf for problem description and complete the following functions"
   ]
  },
  {
   "cell_type": "code",
   "execution_count": 10,
   "metadata": {},
   "outputs": [],
   "source": [
    "import time # to time the execution\n",
    "import numpy as np\n",
    "import matplotlib.pyplot as plt"
   ]
  },
  {
   "cell_type": "code",
   "execution_count": 11,
   "metadata": {},
   "outputs": [],
   "source": [
    "### TODO 1\n",
    "### Load data from data_path\n",
    "### Check the input file spice_locations.txt to understand the Data Format\n",
    "### Return : np array of size Nx2\n",
    "def load_data(data_path):\n",
    "    return np.loadtxt(data_path, delimiter=',')"
   ]
  },
  {
   "cell_type": "code",
   "execution_count": 12,
   "metadata": {},
   "outputs": [],
   "source": [
    "### TODO 2.1\n",
    "### If init_centers is None, initialize the centers by selecting K data points at random without replacement\n",
    "### Else, use the centers provided in init_centers\n",
    "### Return : np array of size Kx2\n",
    "def initialise_centers(data, K, init_centers=None):\n",
    "    if init_centers is None:\n",
    "        return data[np.random.choice(data.shape[0], K, replace=False)]\n",
    "    else:\n",
    "        return init_centers"
   ]
  },
  {
   "cell_type": "code",
   "execution_count": 13,
   "metadata": {},
   "outputs": [],
   "source": [
    "### TODO 2.2\n",
    "### Initialize the labels to all ones to size (N,) where N is the number of data points\n",
    "### Return : np array of size N\n",
    "def initialise_labels(data):\n",
    "    return np.ones(data.shape[0])"
   ]
  },
  {
   "cell_type": "code",
   "execution_count": 14,
   "metadata": {},
   "outputs": [],
   "source": [
    "### TODO 3.1 : E step\n",
    "### For Each data point, find the distance to each center\n",
    "### Return : np array of size NxK\n",
    "def calculate_distances(data, centers):\n",
    "    return np.linalg.norm(data[:, None] - centers, axis=2)"
   ]
  },
  {
   "cell_type": "code",
   "execution_count": 15,
   "metadata": {},
   "outputs": [],
   "source": [
    "### TODO 3.2 : E step\n",
    "### For Each data point, assign the label of the nearest center\n",
    "### Return : np array of size N\n",
    "def update_labels(distances):\n",
    "    return np.argmin(distances, axis=1)"
   ]
  },
  {
   "cell_type": "code",
   "execution_count": 16,
   "metadata": {},
   "outputs": [],
   "source": [
    "### TODO 4 : M step\n",
    "### Update the centers to the mean of the data points assigned to it\n",
    "### Return : np array of size Kx2\n",
    "def update_centers(data, labels, K):\n",
    "    def find_mean(i):\n",
    "        return np.mean(data[np.where(labels == i)], axis=0)\n",
    "\n",
    "    here_func = np.vectorize(find_mean, signature='()->(n)')\n",
    "    return here_func(np.arange(K))\n"
   ]
  },
  {
   "cell_type": "code",
   "execution_count": 17,
   "metadata": {},
   "outputs": [],
   "source": [
    "### TODO 6 : Check convergence\n",
    "### Check if the labels have changed from the previous iteration\n",
    "### Return : True / False\n",
    "def check_termination(labels1, labels2):\n",
    "    return np.array_equal(labels1, labels2)"
   ]
  },
  {
   "cell_type": "code",
   "execution_count": 18,
   "metadata": {},
   "outputs": [],
   "source": [
    "### DON'T CHANGE ANYTHING IN THE FOLLOWING FUNCTION\n",
    "def kmeans(data_path:str, K:int, init_centers):\n",
    "    '''\n",
    "    Input :\n",
    "        data (type str): path to the file containing the data\n",
    "        K (type int): number of clusters\n",
    "        init_centers (type numpy.ndarray): initial centers. shape = (K, 2) or None\n",
    "    Output :\n",
    "        centers (type numpy.ndarray): final centers. shape = (K, 2)\n",
    "        labels (type numpy.ndarray): label of each data point. shape = (N,)\n",
    "        time (type float): time taken by the algorithm to converge in seconds\n",
    "    N is the number of data points each of shape (2,)\n",
    "    '''\n",
    "    data = load_data(data_path)    \n",
    "    centers = initialise_centers(data, K, init_centers)\n",
    "    labels = initialise_labels(data)\n",
    "\n",
    "    start_time = time.time() # Time stamp \n",
    "\n",
    "    while True:\n",
    "        distances = calculate_distances(data, centers)\n",
    "        labels_new = update_labels(distances)\n",
    "        centers = update_centers(data, labels_new, K)\n",
    "        if check_termination(labels, labels_new): break\n",
    "        else: labels = labels_new\n",
    " \n",
    "    end_time = time.time() # Time stamp after the algorithm ends\n",
    "    return centers, labels, end_time - start_time "
   ]
  },
  {
   "cell_type": "code",
   "execution_count": 19,
   "metadata": {},
   "outputs": [],
   "source": [
    "### TODO 7\n",
    "def visualise(data_path, labels, centers):\n",
    "    data = load_data(data_path)\n",
    "\n",
    "    # Scatter plot of the data points\n",
    "    plt.scatter(data[:, 0], data[:, 1], c=labels, s=50, cmap='viridis')\n",
    "    plt.scatter(centers[:, 0], centers[:, 1], c='black', s=200, alpha=0.5)\n",
    "\n",
    "    ### Set title as 'K-means clustering'\n",
    "    plt.title('K-means clustering')\n",
    "    ### Set xlabel as 'Longitude'\n",
    "    plt.xlabel('Longitude')\n",
    "    ### Set ylabel as 'Latitude'\n",
    "    plt.ylabel('Latitude')\n",
    "    ### Save the plot as 'kmeans.png'\n",
    "    plt.savefig('kmeans.png')\n",
    "\n",
    "    ## DO NOT CHANGE THE FOLLOWING LINE\n",
    "    return plt"
   ]
  },
  {
   "cell_type": "code",
   "execution_count": 20,
   "metadata": {},
   "outputs": [
    {
     "name": "stdout",
     "output_type": "stream",
     "text": [
      "Time taken for the algorithm to converge: 0.0028755664825439453\n"
     ]
    },
    {
     "data": {
      "text/plain": [
       "<module 'matplotlib.pyplot' from '/usr/lib/python3/dist-packages/matplotlib/pyplot.py'>"
      ]
     },
     "execution_count": 20,
     "metadata": {},
     "output_type": "execute_result"
    },
    {
     "data": {
      "image/png": "[encoded data removed]",
      "text/plain": [
       "<Figure size 640x480 with 1 Axes>"
      ]
     },
     "metadata": {},
     "output_type": "display_data"
    }
   ],
   "source": [
    "### After you have completed the above functions, run the following code to generate the plot\n",
    "data_path = 'spice_locations.txt'\n",
    "K, init_centers = 2, None\n",
    "centers, labels, time_taken = kmeans(data_path, K, init_centers)\n",
    "print('Time taken for the algorithm to converge:', time_taken)\n",
    "visualise(data_path, labels, centers)"
   ]
  },
  {
   "cell_type": "code",
   "execution_count": null,
   "metadata": {},
   "outputs": [],
   "source": []
  },
  {
   "cell_type": "code",
   "execution_count": null,
   "metadata": {},
   "outputs": [],
   "source": []
  }
 ],
 "metadata": {
  "kernelspec": {
   "display_name": "usr",
   "language": "python",
   "name": "python3"
  },
  "language_info": {
   "codemirror_mode": {
    "name": "ipython",
    "version": 3
   },
   "file_extension": ".py",
   "mimetype": "text/x-python",
   "name": "python",
   "nbconvert_exporter": "python",
   "pygments_lexer": "ipython3",
   "version": "3.12.3"
  }
 },
 "nbformat": 4,
 "nbformat_minor": 2
}
