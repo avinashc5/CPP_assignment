{
 "cells": [
  {
   "cell_type": "markdown",
   "metadata": {},
   "source": [
    "# **Basic Python**"
   ]
  },
  {
   "cell_type": "markdown",
   "metadata": {},
   "source": [
    "## 1.a \n",
    "Give a function F that takes a single argument n. This function should print a sequence of n strings as described in the examples below: <br>\n",
    "Ex: **n = 3**\n",
    "\n",
    "--A--<br>\n",
    "-BAB-<br>\n",
    "CBABC<br>\n",
    "\n",
    "**n = 4**\n",
    "\n",
    "---A---<br>\n",
    "--BAB--<br>\n",
    "-CBABC-<br>\n",
    "DCBABCD"
   ]
  },
  {
   "cell_type": "code",
   "execution_count": null,
   "metadata": {},
   "outputs": [],
   "source": [
    "def F(n):\n",
    "    # Start coding\n",
    "    for i in range(1, n+1):\n",
    "        for j in range(1, 2*n):\n",
    "            \n",
    "    pass\n",
    "\n",
    "# Tests\n",
    "F(10)\n",
    "F(6)"
   ]
  },
  {
   "cell_type": "markdown",
   "metadata": {},
   "source": [
    "## 1.b\n",
    "Make a function F that takes only one argument, a dictionary(dict) d.\n",
    "The keys of d are integers and the values of d are a tuple of type (x (int), y (int)).\n",
    "You must print out the dict in the format \"-key-, -x-, -y-\" with each entry in a new line. Print it for each of the three sorted orders, by key values ascending, by x values descending, by y values ascending."
   ]
  },
  {
   "cell_type": "code",
   "execution_count": 3,
   "metadata": {},
   "outputs": [
    {
     "name": "stdout",
     "output_type": "stream",
     "text": [
      "1, 1, 2\n",
      "2, -1, 4\n",
      "5, -4, 3\n",
      "4, 2, 3\n",
      "-8, 4, 2\n",
      "6, -3, 4\n",
      "7, 2, 1\n",
      "5, 9, -10\n"
     ]
    }
   ],
   "source": [
    "def F(d : dict):\n",
    "    # Start coding\n",
    "    for i in d:\n",
    "        print(i, d[i][0], d[i][1], sep=', ')\n",
    "    pass\n",
    "\n",
    "# Tests\n",
    "F({1 : (1, 2), 2 : (-1, 4), 5 : (-4, 3), 4 : (2, 3)})\n",
    "F({-8 : (4, 2), 6 : (-3, 4), 7 : (2, 1), 5 : (9, -10)})"
   ]
  },
  {
   "cell_type": "markdown",
   "metadata": {},
   "source": [
    "## 2 Working with Student Records\n",
    "\n",
    "Use the data in **student_records.csv** to complete the given tasks. Do not include any external libraries. Use a Python dictionary if required.\n",
    "\n",
    "### Reference\n",
    "- [Python Dictionaries](https://www.w3schools.com/python/python_dictionaries.asp)\n"
   ]
  },
  {
   "cell_type": "markdown",
   "metadata": {},
   "source": [
    "#### 2.a: open the student_records.csv file and print out the first 10 rows"
   ]
  },
  {
   "cell_type": "code",
   "execution_count": 10,
   "metadata": {},
   "outputs": [
    {
     "data": {
      "text/html": [
       "<div>\n",
       "<style scoped>\n",
       "    .dataframe tbody tr th:only-of-type {\n",
       "        vertical-align: middle;\n",
       "    }\n",
       "\n",
       "    .dataframe tbody tr th {\n",
       "        vertical-align: top;\n",
       "    }\n",
       "\n",
       "    .dataframe thead th {\n",
       "        text-align: right;\n",
       "    }\n",
       "</style>\n",
       "<table border=\"1\" class=\"dataframe\">\n",
       "  <thead>\n",
       "    <tr style=\"text-align: right;\">\n",
       "      <th></th>\n",
       "      <th>roll_number</th>\n",
       "      <th>department</th>\n",
       "      <th>credit</th>\n",
       "      <th>course_name</th>\n",
       "      <th>course_type</th>\n",
       "      <th>grade</th>\n",
       "    </tr>\n",
       "  </thead>\n",
       "  <tbody>\n",
       "    <tr>\n",
       "      <th>0</th>\n",
       "      <td>588946</td>\n",
       "      <td>MA</td>\n",
       "      <td>3</td>\n",
       "      <td>EC250</td>\n",
       "      <td>hasmed_elective</td>\n",
       "      <td>AB</td>\n",
       "    </tr>\n",
       "    <tr>\n",
       "      <th>1</th>\n",
       "      <td>145372</td>\n",
       "      <td>EP</td>\n",
       "      <td>4</td>\n",
       "      <td>EP407</td>\n",
       "      <td>hasmed_elective</td>\n",
       "      <td>CC</td>\n",
       "    </tr>\n",
       "    <tr>\n",
       "      <th>2</th>\n",
       "      <td>834515</td>\n",
       "      <td>MA</td>\n",
       "      <td>8</td>\n",
       "      <td>EP885</td>\n",
       "      <td>hasmed_elective</td>\n",
       "      <td>BB</td>\n",
       "    </tr>\n",
       "    <tr>\n",
       "      <th>3</th>\n",
       "      <td>344265</td>\n",
       "      <td>CSE</td>\n",
       "      <td>6</td>\n",
       "      <td>CSE699</td>\n",
       "      <td>honours</td>\n",
       "      <td>AB</td>\n",
       "    </tr>\n",
       "    <tr>\n",
       "      <th>4</th>\n",
       "      <td>358405</td>\n",
       "      <td>MA</td>\n",
       "      <td>3</td>\n",
       "      <td>EE460</td>\n",
       "      <td>minor</td>\n",
       "      <td>AP</td>\n",
       "    </tr>\n",
       "    <tr>\n",
       "      <th>5</th>\n",
       "      <td>781075</td>\n",
       "      <td>CE</td>\n",
       "      <td>8</td>\n",
       "      <td>CE540</td>\n",
       "      <td>honours</td>\n",
       "      <td>CC</td>\n",
       "    </tr>\n",
       "    <tr>\n",
       "      <th>6</th>\n",
       "      <td>180828</td>\n",
       "      <td>CSE</td>\n",
       "      <td>6</td>\n",
       "      <td>CE880</td>\n",
       "      <td>minor</td>\n",
       "      <td>AB</td>\n",
       "    </tr>\n",
       "    <tr>\n",
       "      <th>7</th>\n",
       "      <td>981238</td>\n",
       "      <td>MM</td>\n",
       "      <td>4</td>\n",
       "      <td>CSE226</td>\n",
       "      <td>minor</td>\n",
       "      <td>AB</td>\n",
       "    </tr>\n",
       "    <tr>\n",
       "      <th>8</th>\n",
       "      <td>836881</td>\n",
       "      <td>MM</td>\n",
       "      <td>8</td>\n",
       "      <td>MM530</td>\n",
       "      <td>core</td>\n",
       "      <td>AA</td>\n",
       "    </tr>\n",
       "    <tr>\n",
       "      <th>9</th>\n",
       "      <td>310604</td>\n",
       "      <td>EE</td>\n",
       "      <td>8</td>\n",
       "      <td>EE202</td>\n",
       "      <td>core</td>\n",
       "      <td>AB</td>\n",
       "    </tr>\n",
       "  </tbody>\n",
       "</table>\n",
       "</div>"
      ],
      "text/plain": [
       "   roll_number department  credit course_name      course_type grade\n",
       "0       588946         MA       3       EC250  hasmed_elective    AB\n",
       "1       145372         EP       4       EP407  hasmed_elective    CC\n",
       "2       834515         MA       8       EP885  hasmed_elective    BB\n",
       "3       344265        CSE       6      CSE699          honours    AB\n",
       "4       358405         MA       3       EE460            minor    AP\n",
       "5       781075         CE       8       CE540          honours    CC\n",
       "6       180828        CSE       6       CE880            minor    AB\n",
       "7       981238         MM       4      CSE226            minor    AB\n",
       "8       836881         MM       8       MM530             core    AA\n",
       "9       310604         EE       8       EE202             core    AB"
      ]
     },
     "execution_count": 10,
     "metadata": {},
     "output_type": "execute_result"
    }
   ],
   "source": [
    "#TODO\n",
    "import pandas as pd\n",
    "df = pd.read_csv('student_records.csv')\n",
    "df.head(10)"
   ]
  },
  {
   "cell_type": "markdown",
   "metadata": {},
   "source": [
    "#### 2.b: Print out the total credits and calculte CPI of each student. \n",
    "CPI is the weighted average of core courses, and electives (weights being the letter grades converted to number AP,AA=10, AB=9, BB=9, BC=7, CC=6)"
   ]
  },
  {
   "cell_type": "code",
   "execution_count": 25,
   "metadata": {},
   "outputs": [
    {
     "data": {
      "text/plain": [
       "roll_number\n",
       "124663    8.230000\n",
       "138296    7.991228\n",
       "143142    8.562963\n",
       "143856    8.491803\n",
       "144528    8.571429\n",
       "            ...   \n",
       "981238    8.275000\n",
       "986057    7.925676\n",
       "993835    8.424242\n",
       "995208    7.590909\n",
       "998293    8.560000\n",
       "Length: 100, dtype: float64"
      ]
     },
     "metadata": {},
     "output_type": "display_data"
    }
   ],
   "source": [
    "#TODO\n",
    "df_credit = df[df['course_type'] != 'honours']\n",
    "df_credit = df_credit[df_credit['course_type'] != 'minor']\n",
    "df_credit = df_credit[df_credit['course_type'] != 'alc']\n",
    "\n",
    "df_credit['grade_in_numbers'] = df_credit['grade'].map({'AP': 10, 'AA': 10, 'AB': 9, 'BB': 8, 'BC': 7, 'CC': 6, 'CD': 5, 'DD': 4})\n",
    "df_credit['credit_times_grade'] = df_credit['credit'] * df_credit['grade_in_numbers']\n",
    "display(df_credit.groupby('roll_number').sum()['credit_times_grade'] / df_credit.groupby('roll_number').sum()['credit'])"
   ]
  },
  {
   "cell_type": "markdown",
   "metadata": {},
   "source": [
    "#### 2.c: Print out the names of all students who meet the graduation requirements \n",
    "Atleast 20 credist of core course, 15 credits of department elective, 10 credits of flexible elective and 5 credits of hasmed electives"
   ]
  },
  {
   "cell_type": "code",
   "execution_count": 94,
   "metadata": {},
   "outputs": [
    {
     "data": {
      "text/plain": [
       "Index([124663, 143142, 143856, 144528, 150503, 159438, 180828, 203200, 207443,\n",
       "       214270, 265922, 282482, 283796, 294697, 310604, 327122, 362471, 379479,\n",
       "       381227, 388969, 391848, 461971, 482623, 485484, 488661, 500658, 517837,\n",
       "       521087, 534763, 571782, 572815, 581065, 581858, 588946, 608522, 608952,\n",
       "       626000, 628849, 630568, 681499, 692318, 703403, 716985, 721490, 750259,\n",
       "       773982, 781075, 782129, 787967, 810863, 834515, 836881, 845623, 871746,\n",
       "       879634, 881983, 888886, 928288, 955757, 960395, 970791, 971123, 973158,\n",
       "       981238, 986057, 998293],\n",
       "      dtype='int64', name='roll_number')"
      ]
     },
     "execution_count": 94,
     "metadata": {},
     "output_type": "execute_result"
    }
   ],
   "source": [
    "#TODO\n",
    "df_credit_grouped = df_credit.groupby(['roll_number', 'course_type']).sum()['credit']\n",
    "df_credit_grouped = df_credit_grouped.unstack().fillna(0)\n",
    "df_credit_grouped[df_credit_grouped.eval(\"core >= 20 and department_elective >= 15 and felxible_elective >= 10 and hasmed_elective >= 5\")].index"
   ]
  },
  {
   "cell_type": "markdown",
   "metadata": {},
   "source": [
    "#### 2.d: Print out the names of all students who completed a minor \n",
    "Atleast 10 credits with minor tag in a specific department"
   ]
  },
  {
   "cell_type": "code",
   "execution_count": 72,
   "metadata": {},
   "outputs": [
    {
     "name": "stdout",
     "output_type": "stream",
     "text": [
      "Index([124663, 138296, 143142, 143856, 144528, 145372, 150503, 159438, 180828,\n",
      "       194063, 199713, 203200, 207443, 208100, 214270, 265922, 270007, 282482,\n",
      "       283796, 294697, 301135, 310604, 327122, 329535, 344265, 358405, 362471,\n",
      "       364146, 379479, 381227, 381526, 388969, 391848, 458200, 461584, 461971,\n",
      "       465496, 478606, 482623, 485484, 488661, 500658, 517837, 521087, 534763,\n",
      "       571782, 572815, 581065, 581858, 582912, 588946, 589528, 597353, 608522,\n",
      "       608952, 613401, 626000, 628849, 630568, 680096, 681499, 692318, 703403,\n",
      "       716985, 718510, 721490, 733782, 750259, 773982, 775967, 781075, 782129,\n",
      "       787967, 788020, 810863, 816041, 834515, 836431, 836881, 841365, 845623,\n",
      "       847809, 851029, 870642, 871746, 879634, 881983, 888886, 907454, 928288,\n",
      "       955757, 960395, 970791, 971123, 973158, 981238, 986057, 993835, 995208,\n",
      "       998293],\n",
      "      dtype='int64', name='roll_number')\n"
     ]
    }
   ],
   "source": [
    "#TODO\n",
    "df_minor = df[df['course_type'] == 'minor']\n",
    "df_grouped_minor = df_minor.groupby(['roll_number', 'department']).sum()['credit']\n",
    "print(df_grouped_minor[df_grouped_minor >= 10].index.levels[0])"
   ]
  },
  {
   "cell_type": "markdown",
   "metadata": {},
   "source": [
    "#### 2.e: Print out the names of all students who completed a honours\n",
    "Atleast 10 credits with honours tag and 20 core credits"
   ]
  },
  {
   "cell_type": "code",
   "execution_count": 90,
   "metadata": {},
   "outputs": [
    {
     "name": "stdout",
     "output_type": "stream",
     "text": [
      "Index([124663, 143142, 143856, 144528, 145372, 150503, 159438, 199713, 203200,\n",
      "       207443, 208100, 214270, 265922, 282482, 283796, 294697, 310604, 327122,\n",
      "       362471, 364146, 379479, 388969, 391848, 458200, 461971, 465496, 482623,\n",
      "       485484, 488661, 500658, 517837, 521087, 534763, 571782, 572815, 581065,\n",
      "       581858, 582912, 588946, 589528, 608522, 608952, 613401, 626000, 628849,\n",
      "       630568, 681499, 692318, 703403, 716985, 718510, 721490, 750259, 773982,\n",
      "       781075, 782129, 787967, 788020, 810863, 834515, 836881, 845623, 870642,\n",
      "       871746, 879634, 881983, 888886, 928288, 955757, 960395, 970791, 971123,\n",
      "       973158, 986057, 998293],\n",
      "      dtype='int64', name='roll_number')\n"
     ]
    }
   ],
   "source": [
    "#TODO\n",
    "df_honours = df.groupby(['roll_number', 'course_type']).sum()['credit']\n",
    "df_honours = df_honours.unstack()\n",
    "df_honours['honours'] = df_honours['honours'].fillna(0)\n",
    "df_honours['honours'] = df_honours['honours'].astype(int)\n",
    "\n",
    "print(df_honours[df_honours.eval(\"honours >= 10 and core >= 20\")].index)"
   ]
  },
  {
   "cell_type": "markdown",
   "metadata": {},
   "source": [
    "# **SciPy** "
   ]
  },
  {
   "cell_type": "markdown",
   "metadata": {},
   "source": [
    "## Part A\n",
    "Minimize the function $f(x, y) = 2(x - y - 3)^2 + 4(x + 2y + 1)^4$.<br>\n",
    "With the constraints : $ x - y \\ge -3, (x + 2)^2 + (y + 1)^2 \\le 5$ <br>\n",
    "Using scipy.optimize.minimize with constraints. (Hint: Look at the examples in the official documentation)"
   ]
  },
  {
   "cell_type": "code",
   "execution_count": 112,
   "metadata": {},
   "outputs": [
    {
     "name": "stdout",
     "output_type": "stream",
     "text": [
      " message: Optimization terminated successfully\n",
      " success: True\n",
      "  status: 0\n",
      "     fun: 7.345026153552391\n",
      "       x: [ 2.349e-01 -9.285e-01]\n",
      "     nit: 9\n",
      "     jac: [-1.120e+01 -3.583e-01]\n",
      "    nfev: 30\n",
      "    njev: 9\n"
     ]
    }
   ],
   "source": [
    "#TODO\n",
    "import scipy\n",
    "import numpy as np\n",
    "\n",
    "def f(vars):\n",
    "\tx, y = vars\n",
    "\treturn 2*(x - y - 3)**2 + 4*(x + 2*y + 1)**4\n",
    "\n",
    "def ineq1(vars):\n",
    "\tx, y = vars\n",
    "\treturn x - y + 3\n",
    "\n",
    "def ineq2(vars):\n",
    "\tx, y = vars\n",
    "\treturn 5 - (x + 2)**2 - (y + 1)**2\n",
    "\n",
    "con1 = {'type': 'ineq', 'fun': ineq1}\n",
    "con2 = {'type': 'ineq', 'fun': ineq2}\n",
    "\n",
    "result = scipy.optimize.minimize(f, [1, 1], constraints=[con1, con2])\n",
    "print(result)"
   ]
  },
  {
   "cell_type": "markdown",
   "metadata": {},
   "source": [
    "# Part B\n",
    "Evaluate the line integral of the function $f(x, y) = x^2 + y^4$ along the circle $ x^2 + y^2 = 3 $ anticlockwise (scalar integral, not vector). You must use scipy for integration but you may use parameterization"
   ]
  },
  {
   "cell_type": "code",
   "execution_count": 127,
   "metadata": {},
   "outputs": [
    {
     "name": "stdout",
     "output_type": "stream",
     "text": [
      "53.05363140385085\n"
     ]
    }
   ],
   "source": [
    "#TODO\n",
    "from scipy.integrate import quad\n",
    "def f(x, y):\n",
    "\treturn x**2 + y**4\n",
    "\n",
    "R = np.sqrt(3)\n",
    "def integrand(theta):\n",
    "\tx = R * np.cos(theta)\n",
    "\ty = R * np.sin(theta)\n",
    "\treturn f(x, y) * R\n",
    "\n",
    "result, error = quad(integrand, 0, 2*np.pi)\n",
    "print(result)"
   ]
  },
  {
   "cell_type": "markdown",
   "metadata": {},
   "source": [
    "# **Numpy**"
   ]
  },
  {
   "cell_type": "markdown",
   "metadata": {},
   "source": [
    "### Read Lisan_Al_Gaib.pdf for problem description and complete the following functions"
   ]
  },
  {
   "cell_type": "code",
   "execution_count": null,
   "metadata": {},
   "outputs": [],
   "source": [
    "import time # to time the execution\n",
    "import numpy as np\n",
    "import matplotlib.pyplot as plt"
   ]
  },
  {
   "cell_type": "code",
   "execution_count": null,
   "metadata": {},
   "outputs": [],
   "source": [
    "### TODO 1\n",
    "### Load data from data_path\n",
    "### Check the input file spice_locations.txt to understand the Data Format\n",
    "### Return : np array of size Nx2\n",
    "def load_data(data_path):\n",
    "    return None"
   ]
  },
  {
   "cell_type": "code",
   "execution_count": null,
   "metadata": {},
   "outputs": [],
   "source": [
    "### TODO 2.1\n",
    "### If init_centers is None, initialize the centers by selecting K data points at random without replacement\n",
    "### Else, use the centers provided in init_centers\n",
    "### Return : np array of size Kx2\n",
    "def initialise_centers(data, K, init_centers=None):\n",
    "    return None"
   ]
  },
  {
   "cell_type": "code",
   "execution_count": null,
   "metadata": {},
   "outputs": [],
   "source": [
    "### TODO 2.2\n",
    "### Initialize the labels to all ones to size (N,) where N is the number of data points\n",
    "### Return : np array of size N\n",
    "def initialise_labels(data):\n",
    "    return None"
   ]
  },
  {
   "cell_type": "code",
   "execution_count": null,
   "metadata": {},
   "outputs": [],
   "source": [
    "### TODO 3.1 : E step\n",
    "### For Each data point, find the distance to each center\n",
    "### Return : np array of size NxK\n",
    "def calculate_distances(data, centers):\n",
    "    return None"
   ]
  },
  {
   "cell_type": "code",
   "execution_count": null,
   "metadata": {},
   "outputs": [],
   "source": [
    "### TODO 3.2 : E step\n",
    "### For Each data point, assign the label of the nearest center\n",
    "### Return : np array of size N\n",
    "def update_labels(distances):\n",
    "    return None"
   ]
  },
  {
   "cell_type": "code",
   "execution_count": null,
   "metadata": {},
   "outputs": [],
   "source": [
    "### TODO 4 : M step\n",
    "### Update the centers to the mean of the data points assigned to it\n",
    "### Return : np array of size Kx2\n",
    "def update_centers(data, labels, K):\n",
    "    return None\n"
   ]
  },
  {
   "cell_type": "code",
   "execution_count": null,
   "metadata": {},
   "outputs": [],
   "source": [
    "### TODO 6 : Check convergence\n",
    "### Check if the labels have changed from the previous iteration\n",
    "### Return : True / False\n",
    "def check_termination(labels1, labels2):\n",
    "    return None"
   ]
  },
  {
   "cell_type": "code",
   "execution_count": null,
   "metadata": {},
   "outputs": [],
   "source": [
    "### DON'T CHANGE ANYTHING IN THE FOLLOWING FUNCTION\n",
    "def kmeans(data_path:str, K:int, init_centers):\n",
    "    '''\n",
    "    Input :\n",
    "        data (type str): path to the file containing the data\n",
    "        K (type int): number of clusters\n",
    "        init_centers (type numpy.ndarray): initial centers. shape = (K, 2) or None\n",
    "    Output :\n",
    "        centers (type numpy.ndarray): final centers. shape = (K, 2)\n",
    "        labels (type numpy.ndarray): label of each data point. shape = (N,)\n",
    "        time (type float): time taken by the algorithm to converge in seconds\n",
    "    N is the number of data points each of shape (2,)\n",
    "    '''\n",
    "    data = load_data(data_path)    \n",
    "    centers = initialise_centers(data, K, init_centers)\n",
    "    labels = initialise_labels(data)\n",
    "\n",
    "    start_time = time.time() # Time stamp \n",
    "\n",
    "    while True:\n",
    "        distances = calculate_distances(data, centers)\n",
    "        labels_new = update_labels(distances)\n",
    "        centers = update_centers(data, labels_new, K)\n",
    "        if check_termination(labels, labels_new): break\n",
    "        else: labels = labels_new\n",
    " \n",
    "    end_time = time.time() # Time stamp after the algorithm ends\n",
    "    return centers, labels, end_time - start_time "
   ]
  },
  {
   "cell_type": "code",
   "execution_count": null,
   "metadata": {},
   "outputs": [],
   "source": [
    "### TODO 7\n",
    "def visualise(data_path, labels, centers):\n",
    "    data = load_data(data_path)\n",
    "\n",
    "    # Scatter plot of the data points\n",
    "    plt.scatter(data[:, 0], data[:, 1], c=labels, s=50, cmap='viridis')\n",
    "    plt.scatter(centers[:, 0], centers[:, 1], c='black', s=200, alpha=0.5)\n",
    "\n",
    "    ### Set title as 'K-means clustering'\n",
    "\n",
    "    ### Set xlabel as 'Longitude'\n",
    "\n",
    "    ### Set ylabel as 'Latitude'\n",
    "\n",
    "    ### Save the plot as 'kmeans.png'\n",
    "\n",
    "\n",
    "    ## DO NOT CHANGE THE FOLLOWING LINE\n",
    "    return plt"
   ]
  },
  {
   "cell_type": "code",
   "execution_count": null,
   "metadata": {},
   "outputs": [],
   "source": [
    "### After you have completed the above functions, run the following code to generate the plot\n",
    "data_path = 'spice_locations.txt'\n",
    "K, init_centers = 2, None\n",
    "centers, labels, time_taken = kmeans(data_path, K, init_centers)\n",
    "print('Time taken for the algorithm to converge:', time_taken)\n",
    "visualise(data_path, labels, centers)"
   ]
  }
 ],
 "metadata": {
  "kernelspec": {
   "display_name": "Python 3",
   "language": "python",
   "name": "python3"
  },
  "language_info": {
   "codemirror_mode": {
    "name": "ipython",
    "version": 3
   },
   "file_extension": ".py",
   "mimetype": "text/x-python",
   "name": "python",
   "nbconvert_exporter": "python",
   "pygments_lexer": "ipython3",
   "version": "3.12.3"
  }
 },
 "nbformat": 4,
 "nbformat_minor": 2
}
